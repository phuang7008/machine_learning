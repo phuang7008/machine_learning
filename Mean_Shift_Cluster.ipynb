{
 "cells": [
  {
   "cell_type": "code",
   "execution_count": 1,
   "metadata": {
    "collapsed": false
   },
   "outputs": [],
   "source": [
    "%matplotlib inline\n",
    "\n",
    "import pandas as pd\n",
    "import numpy as np\n",
    "import matplotlib.pyplot as plt\n",
    "from mpl_toolkits.mplot3d import Axes3D\n",
    "from matplotlib import style\n",
    "style.use('ggplot')\n"
   ]
  },
  {
   "cell_type": "code",
   "execution_count": 2,
   "metadata": {
    "collapsed": false
   },
   "outputs": [
    {
     "name": "stdout",
     "output_type": "stream",
     "text": [
      "(300, 3)\n",
      "[[  1.08216053   1.05913164   1.10037913]\n",
      " [  2.94347914  10.25910124   9.92859384]\n",
      " [  4.97329119   5.03334557   4.92381543]]\n",
      "Number of estimated clustering centers is:  3\n"
     ]
    },
    {
     "data": {
      "text/plain": [
       "<mpl_toolkits.mplot3d.art3d.Path3DCollection at 0xbc91a90>"
      ]
     },
     "execution_count": 2,
     "metadata": {},
     "output_type": "execute_result"
    },
    {
     "data": {
      "image/png": "[encoded data removed]",
      "text/plain": [
       "<matplotlib.figure.Figure at 0x8a802b0>"
      ]
     },
     "metadata": {},
     "output_type": "display_data"
    }
   ],
   "source": [
    "# first use sklearn's meanshift do some exercises\n",
    "from sklearn.cluster import MeanShift\n",
    "from sklearn.datasets.samples_generator import make_blobs\n",
    "\n",
    "centers = [[1,1,1], [5,5,5], [3,10,10]]\n",
    "X, _ = make_blobs(n_samples=300, centers=centers, cluster_std=1)\n",
    "print(X.shape)\n",
    "#print(_)\n",
    "\n",
    "clf = MeanShift()\n",
    "clf.fit(X)\n",
    "labels = clf.labels_\n",
    "cluster_centers = clf.cluster_centers_\n",
    "print(cluster_centers)\n",
    "n_clusters = len(np.unique(labels))\n",
    "print(\"Number of estimated clustering centers is: \", n_clusters)\n",
    "\n",
    "# 3D plotting\n",
    "colors = 10*['g', 'r', 'c', 'k', 'b', 'y', 'm']\n",
    "fig = plt.figure()\n",
    "ax = fig.add_subplot(111, projection='3d')\n",
    "\n",
    "for i in range(len(X)):\n",
    "    ax.scatter(X[i][0], X[i][1], X[i][2], c=colors[labels[i]], marker='*')\n",
    "    \n",
    "ax.scatter(cluster_centers[:,0], cluster_centers[:,1], cluster_centers[:,2], s=150, c='k', zorder=10, marker='o')\n",
    "\n"
   ]
  },
  {
   "cell_type": "code",
   "execution_count": 5,
   "metadata": {
    "collapsed": false
   },
   "outputs": [
    {
     "name": "stdout",
     "output_type": "stream",
     "text": [
      "   pclass  survived                                             name     sex  \\\n",
      "0       1         1                    Allen, Miss. Elisabeth Walton  female   \n",
      "1       1         1                   Allison, Master. Hudson Trevor    male   \n",
      "2       1         0                     Allison, Miss. Helen Loraine  female   \n",
      "3       1         0             Allison, Mr. Hudson Joshua Creighton    male   \n",
      "4       1         0  Allison, Mrs. Hudson J C (Bessie Waldo Daniels)  female   \n",
      "\n",
      "       age  sibsp  parch  ticket      fare    cabin embarked boat   body  \\\n",
      "0  29.0000      0      0   24160  211.3375       B5        S    2    NaN   \n",
      "1   0.9167      1      2  113781  151.5500  C22 C26        S   11    NaN   \n",
      "2   2.0000      1      2  113781  151.5500  C22 C26        S  NaN    NaN   \n",
      "3  30.0000      1      2  113781  151.5500  C22 C26        S  NaN  135.0   \n",
      "4  25.0000      1      2  113781  151.5500  C22 C26        S  NaN    NaN   \n",
      "\n",
      "                         home.dest  \n",
      "0                     St Louis, MO  \n",
      "1  Montreal, PQ / Chesterville, ON  \n",
      "2  Montreal, PQ / Chesterville, ON  \n",
      "3  Montreal, PQ / Chesterville, ON  \n",
      "4  Montreal, PQ / Chesterville, ON  \n",
      "   pclass  survived  sex      age  sibsp  parch  ticket      fare  cabin  \\\n",
      "0       1         1    0  29.0000      0      0     761  211.3375    147   \n",
      "1       1         1    1   0.9167      1      2     516  151.5500    129   \n",
      "2       1         0    0   2.0000      1      2     516  151.5500    129   \n",
      "3       1         0    1  30.0000      1      2     516  151.5500    129   \n",
      "4       1         0    0  25.0000      1      2     516  151.5500    129   \n",
      "\n",
      "   embarked  boat  home.dest  \n",
      "0         1     2        252  \n",
      "1         1    14        201  \n",
      "2         1     0        201  \n",
      "3         1     0        201  \n",
      "4         1     0        201  \n",
      "[[-1.54609786 -1.34499549  0.29131302 -0.47908676 -0.4449995   3.44242751\n",
      "   2.7261156  -0.59918319 -0.37726605]\n",
      " [-1.54609786  0.74349692 -1.30576934  0.48128777  1.86652569  2.28660634\n",
      "   2.33681686 -0.59918319  1.02968911]]\n"
     ]
    },
    {
     "name": "stderr",
     "output_type": "stream",
     "text": [
      "C:\\Users\\ting\\Anaconda3\\lib\\site-packages\\ipykernel\\__main__.py:10: FutureWarning: convert_objects is deprecated.  Use the data-type specific converters pd.to_datetime, pd.to_timedelta and pd.to_numeric.\n"
     ]
    },
    {
     "name": "stdout",
     "output_type": "stream",
     "text": [
      "3\n"
     ]
    },
    {
     "name": "stderr",
     "output_type": "stream",
     "text": [
      "C:\\Users\\ting\\Anaconda3\\lib\\site-packages\\pandas\\core\\indexing.py:128: SettingWithCopyWarning: \n",
      "A value is trying to be set on a copy of a slice from a DataFrame\n",
      "\n",
      "See the caveats in the documentation: http://pandas.pydata.org/pandas-docs/stable/indexing.html#indexing-view-versus-copy\n",
      "  self._setitem_with_indexer(indexer, value)\n"
     ]
    },
    {
     "name": "stdout",
     "output_type": "stream",
     "text": [
      "{0: 0.6229508196721312, 1: 0.8888888888888888, 2: 0.0}\n"
     ]
    }
   ],
   "source": [
    "# here I am going to use MeanShift to cluster titanic dataset\n",
    "from sklearn import preprocessing\n",
    "import ML_module\n",
    "\n",
    "df = pd.read_excel('titanic.xls')\n",
    "original_df = pd.DataFrame.copy(df)\n",
    "print(df.head())\n",
    "\n",
    "df.drop(['name', 'body'], 1, inplace=True)\n",
    "df.convert_objects(convert_numeric=True)\n",
    "df.fillna(0, inplace=True)\n",
    "ML_module.handle_non_numeric_data(df)\n",
    "print(df.head())\n",
    "\n",
    "df.drop(['home.dest', 'ticket'], 1, inplace=True)\n",
    "\n",
    "X = np.array(df.drop(['survived'], 1).astype(float))\n",
    "X = preprocessing.scale(X)\n",
    "y = np.array(df['survived'])\n",
    "print(X[:2])\n",
    "\n",
    "clf = MeanShift()\n",
    "clf.fit(X)\n",
    "labels = clf.labels_\n",
    "cluster_centers = clf.cluster_centers_\n",
    "print(len(np.unique(labels)))\n",
    "\n",
    "original_df['cluster_group'] = np.nan\n",
    "\n",
    "for i, label in enumerate(labels):\n",
    "    original_df['cluster_group'].iloc[i] = label\n",
    "\n",
    "survival_rates = {}\n",
    "n_clusters = len(np.unique(labels)) \n",
    "for i in range(n_clusters):\n",
    "    temp_df = original_df[ (original_df['cluster_group'] == i)]\n",
    "    survival_cluster = temp_df[ (temp_df['survived'] == i) ]\n",
    "    survival_rate = len(survival_cluster)/len(temp_df)\n",
    "    survival_rates[i] = survival_rate\n",
    "    \n",
    "print(survival_rates)\n",
    "    "
   ]
  },
  {
   "cell_type": "code",
   "execution_count": 9,
   "metadata": {
    "collapsed": false
   },
   "outputs": [
    {
     "name": "stdout",
     "output_type": "stream",
     "text": [
      "    pclass  survived                                               name  \\\n",
      "17       1         1    Baxter, Mrs. James (Helene DeLaudeniere Chaput)   \n",
      "35       1         1                           Bowen, Miss. Grace Scott   \n",
      "49       1         1                 Cardeza, Mr. Thomas Drake Martinez   \n",
      "50       1         1  Cardeza, Mrs. James Warburton Martinez (Charlo...   \n",
      "66       1         1                        Chaudanson, Miss. Victorine   \n",
      "\n",
      "       sex   age  sibsp  parch    ticket      fare        cabin embarked boat  \\\n",
      "17  female  50.0      0      1  PC 17558  247.5208      B58 B60        C    6   \n",
      "35  female  45.0      0      0  PC 17608  262.3750          NaN        C    4   \n",
      "49    male  36.0      0      1  PC 17755  512.3292  B51 B53 B55        C    3   \n",
      "50  female  58.0      0      1  PC 17755  512.3292  B51 B53 B55        C    3   \n",
      "66  female  36.0      0      0  PC 17608  262.3750          B61        C    4   \n",
      "\n",
      "    body                                       home.dest  cluster_group  \n",
      "17   NaN                                    Montreal, PQ            1.0  \n",
      "35   NaN                                 Cooperstown, NY            1.0  \n",
      "49   NaN  Austria-Hungary / Germantown, Philadelphia, PA            1.0  \n",
      "50   NaN                    Germantown, Philadelphia, PA            1.0  \n",
      "66   NaN                                             NaN            1.0  \n",
      "       pclass   survived        age      sibsp      parch        fare  body  \\\n",
      "count    18.0  18.000000  18.000000  18.000000  18.000000   18.000000   0.0   \n",
      "mean      1.0   0.888889  37.888889   1.111111   1.666667  316.443522   NaN   \n",
      "std       0.0   0.323381  16.021636   1.131833   1.283378  107.848032   NaN   \n",
      "min       1.0   0.000000  13.000000   0.000000   0.000000  247.520800   NaN   \n",
      "25%       1.0   1.000000  24.750000   0.000000   1.000000  262.375000   NaN   \n",
      "50%       1.0   1.000000  35.500000   1.000000   2.000000  262.687500   NaN   \n",
      "75%       1.0   1.000000  49.500000   2.000000   2.000000  263.000000   NaN   \n",
      "max       1.0   1.000000  64.000000   3.000000   4.000000  512.329200   NaN   \n",
      "\n",
      "       cluster_group  \n",
      "count           18.0  \n",
      "mean             1.0  \n",
      "std              0.0  \n",
      "min              1.0  \n",
      "25%              1.0  \n",
      "50%              1.0  \n",
      "75%              1.0  \n",
      "max              1.0  \n"
     ]
    }
   ],
   "source": [
    "# let's see what things our results told us\n",
    "print( original_df[ (original_df['cluster_group'] == 1)][:5])    # most of the first class passengers survived\n",
    "print( original_df[ (original_df['cluster_group'] == 1)].describe())"
   ]
  },
  {
   "cell_type": "code",
   "execution_count": 12,
   "metadata": {
    "collapsed": false
   },
   "outputs": [
    {
     "name": "stdout",
     "output_type": "stream",
     "text": [
      "     pclass  survived                                               name  \\\n",
      "629       3         0                        Andersson, Mr. Anders Johan   \n",
      "632       3         0  Andersson, Mrs. Anders Johan (Alfrida Konstant...   \n",
      "644       3         0         Asplund, Mr. Carl Oscar Vilhelm Gustafsson   \n",
      "646       3         1  Asplund, Mrs. Carl Oscar (Selma Augusta Emilia...   \n",
      "831       3         0                     Goodwin, Mr. Charles Frederick   \n",
      "\n",
      "        sex   age  sibsp  parch   ticket     fare cabin embarked boat   body  \\\n",
      "629    male  39.0      1      5   347082  31.2750   NaN        S  NaN    NaN   \n",
      "632  female  39.0      1      5   347082  31.2750   NaN        S  NaN    NaN   \n",
      "644    male  40.0      1      5   347077  31.3875   NaN        S  NaN  142.0   \n",
      "646  female  38.0      1      5   347077  31.3875   NaN        S   15    NaN   \n",
      "831    male  40.0      1      6  CA 2144  46.9000   NaN        S  NaN    NaN   \n",
      "\n",
      "                                home.dest  cluster_group  \n",
      "629                   Sweden Winnipeg, MN            2.0  \n",
      "632                   Sweden Winnipeg, MN            2.0  \n",
      "644                 Sweden  Worcester, MA            2.0  \n",
      "646                 Sweden  Worcester, MA            2.0  \n",
      "831  Wiltshire, England Niagara Falls, NY            2.0  \n",
      "       pclass   survived        age      sibsp      parch       fare  \\\n",
      "count    10.0  10.000000   8.000000  10.000000  10.000000  10.000000   \n",
      "mean      3.0   0.100000  39.875000   0.800000   6.000000  42.703750   \n",
      "std       0.0   0.316228   1.552648   0.421637   1.632993  15.590194   \n",
      "min       3.0   0.000000  38.000000   0.000000   5.000000  29.125000   \n",
      "25%       3.0   0.000000  39.000000   1.000000   5.000000  31.303125   \n",
      "50%       3.0   0.000000  39.500000   1.000000   5.000000  35.537500   \n",
      "75%       3.0   0.000000  40.250000   1.000000   6.000000  46.900000   \n",
      "max       3.0   1.000000  43.000000   1.000000   9.000000  69.550000   \n",
      "\n",
      "             body  cluster_group  \n",
      "count    2.000000           10.0  \n",
      "mean   234.500000            2.0  \n",
      "std    130.814755            0.0  \n",
      "min    142.000000            2.0  \n",
      "25%    188.250000            2.0  \n",
      "50%    234.500000            2.0  \n",
      "75%    280.750000            2.0  \n",
      "max    327.000000            2.0  \n"
     ]
    }
   ],
   "source": [
    "print( original_df[ (original_df['cluster_group'] == 2)][:5])         # most third class passengers died\n",
    "print( original_df[ (original_df['cluster_group'] == 2)].describe())"
   ]
  },
  {
   "cell_type": "code",
   "execution_count": 16,
   "metadata": {
    "collapsed": false
   },
   "outputs": [
    {
     "name": "stdout",
     "output_type": "stream",
     "text": [
      "   pclass  survived                                             name     sex  \\\n",
      "0       1         1                    Allen, Miss. Elisabeth Walton  female   \n",
      "1       1         1                   Allison, Master. Hudson Trevor    male   \n",
      "2       1         0                     Allison, Miss. Helen Loraine  female   \n",
      "3       1         0             Allison, Mr. Hudson Joshua Creighton    male   \n",
      "4       1         0  Allison, Mrs. Hudson J C (Bessie Waldo Daniels)  female   \n",
      "\n",
      "       age  sibsp  parch  ticket      fare    cabin embarked boat   body  \\\n",
      "0  29.0000      0      0   24160  211.3375       B5        S    2    NaN   \n",
      "1   0.9167      1      2  113781  151.5500  C22 C26        S   11    NaN   \n",
      "2   2.0000      1      2  113781  151.5500  C22 C26        S  NaN    NaN   \n",
      "3  30.0000      1      2  113781  151.5500  C22 C26        S  NaN  135.0   \n",
      "4  25.0000      1      2  113781  151.5500  C22 C26        S  NaN    NaN   \n",
      "\n",
      "                         home.dest  cluster_group  \n",
      "0                     St Louis, MO            0.0  \n",
      "1  Montreal, PQ / Chesterville, ON            0.0  \n",
      "2  Montreal, PQ / Chesterville, ON            0.0  \n",
      "3  Montreal, PQ / Chesterville, ON            0.0  \n",
      "4  Montreal, PQ / Chesterville, ON            0.0  \n",
      "            pclass     survived          age        sibsp        parch  \\\n",
      "count  1281.000000  1281.000000  1020.000000  1281.000000  1281.000000   \n",
      "mean      2.307572     0.377049    29.661438     0.487900     0.323185   \n",
      "std       0.830482     0.484837    14.380042     1.041357     0.672101   \n",
      "min       1.000000     0.000000     0.166700     0.000000     0.000000   \n",
      "25%       2.000000     0.000000    21.000000     0.000000     0.000000   \n",
      "50%       3.000000     0.000000    28.000000     0.000000     0.000000   \n",
      "75%       3.000000     1.000000    38.000000     1.000000     0.000000   \n",
      "max       3.000000     1.000000    80.000000     8.000000     4.000000   \n",
      "\n",
      "              fare        body  cluster_group  \n",
      "count  1280.000000  119.000000         1281.0  \n",
      "mean     29.240208  159.571429            0.0  \n",
      "std      37.892453   97.302914            0.0  \n",
      "min       0.000000    1.000000            0.0  \n",
      "25%       7.895800   71.000000            0.0  \n",
      "50%      13.900000  155.000000            0.0  \n",
      "75%      30.000000  255.500000            0.0  \n",
      "max     263.000000  328.000000            0.0  \n"
     ]
    }
   ],
   "source": [
    "print( original_df[ (original_df['cluster_group'] == 0)][:5])\n",
    "print( original_df[ (original_df['cluster_group'] == 0)].describe())"
   ]
  },
  {
   "cell_type": "code",
   "execution_count": 7,
   "metadata": {
    "collapsed": false
   },
   "outputs": [
    {
     "data": {
      "image/png": "[encoded data removed]",
      "text/plain": [
       "<matplotlib.figure.Figure at 0x9710cf8>"
      ]
     },
     "metadata": {},
     "output_type": "display_data"
    }
   ],
   "source": [
    "# implement MeanShift myself here\n",
    "X = np.array([[1,2], [1.5, 1.8], [5,8], [8,8], [1, 0.6], [9,11], [8, 2], [10 ,2], [9, 3]])\n",
    "#plt.scatter(X[:, 0], X[:, 1], s=100)\n",
    "\n",
    "colors = 10*['g', 'r', 'b', 'c', 'k']\n",
    "\n",
    "class Mean_Shift():\n",
    "    def __init__(self, radius=20):\n",
    "        self.radius = radius\n",
    "        \n",
    "    def fit(self, data):\n",
    "        centroids = {}\n",
    "        \n",
    "        for i in range(len(X)):\n",
    "            centroids[i] = data[i]\n",
    "            \n",
    "        while True:\n",
    "            new_centroids = []\n",
    "            \n",
    "            for i in centroids:\n",
    "                centroid = centroids[i]\n",
    "                in_bandwidth = []\n",
    "                \n",
    "                for featureset in data:\n",
    "                    if np.linalg.norm(featureset - centroid) < self.radius:\n",
    "                        in_bandwidth.append(featureset)\n",
    "                new_centroid = np.average(in_bandwidth, axis=0)\n",
    "                new_centroids.append(tuple(new_centroid))\n",
    "                \n",
    "            uniques = sorted(list(set(new_centroids)))\n",
    "        \n",
    "            prev_centroids = dict(centroids)\n",
    "            centroids = {}       # remove everything\n",
    "        \n",
    "            for i in range(len(uniques)):\n",
    "                centroids[i] = np.array(uniques[i])\n",
    "            \n",
    "            optimized = True\n",
    "            for i in centroids:\n",
    "                if not np.array_equal(centroids[i], prev_centroids[i]):\n",
    "                    optimized = False\n",
    "                if not optimized:\n",
    "                    break\n",
    "            \n",
    "            if optimized:\n",
    "                break\n",
    "                \n",
    "        self.centroids = centroids\n",
    "        \n",
    "    def predict(self, data):\n",
    "        pass\n",
    "    \n",
    "clf = Mean_Shift()\n",
    "clf.fit(X)\n",
    "\n",
    "plt.scatter(X[:, 0], X[:, 1], s=100)\n",
    "centroids = clf.centroids\n",
    "\n",
    "for i in centroids:\n",
    "    plt.scatter(centroids[i][0], centroids[i][1], s=120, marker=\"*\", c='k')"
   ]
  },
  {
   "cell_type": "code",
   "execution_count": 67,
   "metadata": {
    "collapsed": false,
    "scrolled": false
   },
   "outputs": [
    {
     "name": "stdout",
     "output_type": "stream",
     "text": [
      "{0: array([-9.63895901, -6.56597433]), 1: array([-8.30388703, -7.02256236]), 2: array([-6.88263123, -9.11416558]), 3: array([-6.85524108, -3.82176262]), 4: array([-6.72765735, -7.45432507]), 5: array([-6.35713033, -2.86514358]), 6: array([-5.95350901, -3.97355011]), 7: array([-5.71283812, -5.84463453]), 8: array([-5.48503844, -3.02281163]), 9: array([-5.40088304, -8.03379912]), 10: array([-4.46832147, -4.44991581]), 11: array([-0.50746101, -4.83342789]), 12: array([-0.34206699, -6.99287331]), 13: array([ 0.40515158, -6.74920766]), 14: array([ 5.15796894,  8.10974697]), 15: array([ 5.47412862,  5.58771863]), 16: array([ 5.48367958,  5.59152944]), 17: array([ 5.95200387,  7.15514538]), 18: array([ 6.0835835 ,  5.56119058]), 19: array([ 6.7072567 ,  3.59890646]), 20: array([ 6.88012389,  7.77941063]), 21: array([ 8.74228973,  7.71963367])}\n"
     ]
    },
    {
     "data": {
      "image/png": "[encoded data removed]",
      "text/plain": [
       "<matplotlib.figure.Figure at 0x96bdac8>"
      ]
     },
     "metadata": {},
     "output_type": "display_data"
    }
   ],
   "source": [
    "# in the previous implementation, we hard-coded the radius, and it might not work if you put radius=40. \\\n",
    "# so we need to dynamically set the size of the radius and put some weight for those closer to the centroids\n",
    "class Mean_Shift_Dynamic():\n",
    "    def __init__(self, radius=None, radius_norm_step=100):\n",
    "        self.radius = radius\n",
    "        self.radius_norm_step = radius_norm_step\n",
    "        \n",
    "    def fit(self, data):\n",
    "        # we first need to define radius if radius is not defined!\n",
    "        if self.radius == None:\n",
    "            # the entire dataset has a center, find it here and its length to origi!\n",
    "            all_data_centroid = np.average(data, axis=0)\n",
    "            all_data_norm = np.linalg.norm(all_data_centroid)\n",
    "            self.radius = all_data_norm / self.radius_norm_step\n",
    "            \n",
    "        # everything featureset is a centroids, so initialize all of them\n",
    "        centroids = {}\n",
    "        for i in range(len(data)):\n",
    "            centroids[i] = data[i]\n",
    "            \n",
    "        # define weight here, the closer to the centroid, the more weight it has\n",
    "        weights = [i for i in range(self.radius_norm_step)][::-1]\n",
    "        \n",
    "        while True:\n",
    "            new_centroids = []\n",
    "            for i in centroids:\n",
    "                in_bandwidth = []\n",
    "                centroid = centroids[i]\n",
    "                \n",
    "                for featureset in data:\n",
    "                    #print(featureset)\n",
    "                    distance = np.linalg.norm(featureset-centroid)\n",
    "                    if distance == 0:\n",
    "                        distance = 0.00000000001\n",
    "                        \n",
    "                    weight_index = int(distance / self.radius)\n",
    "                    #print(\"weight_index is \", weight_index)\n",
    "                    #print(\"weight is \", weights[weight_index])\n",
    "                    if weight_index > self.radius_norm_step - 1:\n",
    "                        weight_index = self.radius_norm_step - 1\n",
    "                    \n",
    "                    # to increase the weight, we multiple the array by a large factor to increase\n",
    "                    # the featureset, for example: 3*[1,4] = [[1,4], [1,4], [1,4]]\n",
    "                    to_add = (weights[weight_index]*2) * [featureset]\n",
    "                    #print(\"to add is \", to_add)\n",
    "                    in_bandwidth += to_add   # both of them are arrays, so adding two arrays together, you could use +=\n",
    "                    \n",
    "                new_centroid = np.average(in_bandwidth, axis=0)\n",
    "                new_centroids.append(tuple(new_centroid))\n",
    "                \n",
    "            # get rid of duplicates\n",
    "            uniques = sorted(list(set(new_centroids)))\n",
    "            #print(\"uniques is: \", uniques)\n",
    "            \n",
    "            # now we need to handle the cases where two centroids are very close to each other, need to remove one from the list\n",
    "            to_pop = []\n",
    "            seen = []\n",
    "            for i in uniques:\n",
    "                for ii in uniques:\n",
    "                    if i == ii:\n",
    "                        pass\n",
    "                    elif np.linalg.norm(np.array(i)-np.array(ii)) <= self.radius:\n",
    "                        if (i not in seen) and (ii not in seen):\n",
    "                            to_pop.append(ii)\n",
    "                            seen.append(i)\n",
    "                            seen.append(ii)\n",
    "            \n",
    "                    #print(\"to pop is \", to_pop)\n",
    "            for i in to_pop:\n",
    "                uniques.remove(i)\n",
    "            \n",
    "            prev_centroids = dict(centroids)\n",
    "            centroids = {}\n",
    "            \n",
    "            # assign the centroids\n",
    "            for i in range(len(uniques)):\n",
    "                centroids[i] = np.array(uniques[i])\n",
    "            \n",
    "            optimized = True\n",
    "            for i in range(len(uniques)):\n",
    "                if not np.array_equal(uniques[i], prev_centroids[i]):\n",
    "                    optimized = False\n",
    "                if not optimized:\n",
    "                    break;\n",
    "                    \n",
    "            if optimized:\n",
    "                break\n",
    "                \n",
    "        self.centroids = centroids\n",
    "    \n",
    "        self.classifications = {}\n",
    "        for i in range(len(centroids)):\n",
    "            self.classifications[i] = []\n",
    "            \n",
    "        for featureset in data:\n",
    "            distances = [np.linalg.norm(featureset-self.centroids[centroid]) for centroid in self.centroids]\n",
    "            classification = distances.index(min(distances))\n",
    "            self.classifications[classification].append(featureset)\n",
    "    \n",
    "    def predict(self, data):\n",
    "        distances = [np.linalg.norm(data-self.centroids[centroid]) for centroid in self.centroids]\n",
    "        classification = distances.index(min(distances))\n",
    "        return classification\n",
    "\n",
    "# now use randomly generated dataset for the analysis\n",
    "from sklearn.datasets.samples_generator import make_blobs\n",
    "import random\n",
    "\n",
    "centers = random.randrange(2,8)\n",
    "X, y = make_blobs(n_samples=30, centers=centers, n_features=2)\n",
    "#X, y = make_blobs(n_samples=30, centers=2, n_features=2)\n",
    "\n",
    "clf = Mean_Shift_Dynamic()\n",
    "clf.fit(X)\n",
    "centroids = clf.centroids\n",
    "classifications = clf.classifications\n",
    "print(centroids)\n",
    "\n",
    "# the following will do the calculation for everything featureset, so not very good, should use the one follow it\n",
    "#for i in range(len(X)):\n",
    "#    classification = clf.predict(X[i])\n",
    "#    plt.scatter(X[i][0], X[i][1], s=120, c=colors[classification])\n",
    "    \n",
    "# or use different approach for plotting\n",
    "for classification in clf.classifications:\n",
    "    for featureset in clf.classifications[classification]:\n",
    "        plt.scatter(featureset[0], featureset[1], s=100, c=colors[classification])\n",
    "\n",
    "for c in centroids:\n",
    "    plt.scatter(centroids[c][0], centroids[c][1], c='y', s=150, marker='*')\n",
    "    #plt.scatter(centroids[i][0], centroids[i][1], s=120, marker=\"*\", c='k')"
   ]
  },
  {
   "cell_type": "code",
   "execution_count": null,
   "metadata": {
    "collapsed": true
   },
   "outputs": [],
   "source": []
  }
 ],
 "metadata": {
  "kernelspec": {
   "display_name": "Python 3",
   "language": "python",
   "name": "python3"
  },
  "language_info": {
   "codemirror_mode": {
    "name": "ipython",
    "version": 3
   },
   "file_extension": ".py",
   "mimetype": "text/x-python",
   "name": "python",
   "nbconvert_exporter": "python",
   "pygments_lexer": "ipython3",
   "version": "3.5.1"
  }
 },
 "nbformat": 4,
 "nbformat_minor": 0
}
