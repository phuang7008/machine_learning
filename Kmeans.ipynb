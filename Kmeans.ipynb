{
 "cells": [
  {
   "cell_type": "code",
   "execution_count": 1,
   "metadata": {
    "collapsed": true
   },
   "outputs": [],
   "source": [
    "%matplotlib inline\n",
    "\n",
    "import matplotlib.pyplot as plt\n",
    "from matplotlib import style\n",
    "style.use('ggplot')\n",
    "\n",
    "import pandas as pd\n",
    "import numpy as np\n",
    "from sklearn.cluster import KMeans\n"
   ]
  },
  {
   "cell_type": "code",
   "execution_count": 2,
   "metadata": {
    "collapsed": false
   },
   "outputs": [
    {
     "name": "stdout",
     "output_type": "stream",
     "text": [
      "[[ 1.16666667  1.46666667]\n",
      " [ 7.33333333  9.        ]]\n",
      "[0 0 1 1 0 1]\n"
     ]
    }
   ],
   "source": [
    "X = np.array([[1,2], [1.5, 1.8], [5,8], [8,8], [1, 0.6], [9,11]])\n",
    "#plt.scatter(X[:,0], X[:,1], s=150)\n",
    "#plt.show()\n",
    "\n",
    "clf = KMeans(n_clusters=2)\n",
    "clf.fit(X)\n",
    "\n",
    "# output some paramaters from KMeans\n",
    "centroids = clf.cluster_centers_\n",
    "labels = clf.labels_\n",
    "print(centroids)\n",
    "print(labels)\n",
    "\n",
    "colors = 10*[\"g\", 'r', 'c', 'b', 'k']\n",
    "for i in range(len(X)):\n",
    "    #plt.plot(X[i][0], X[i][1], colors[labels[i]],  markersize=25)\n",
    "    pass\n",
    "#plt.scatter(centroids[:, 0], centroids[0:, 1], marker='*', s=100)\n",
    "#plt.show()\n"
   ]
  },
  {
   "cell_type": "code",
   "execution_count": 2,
   "metadata": {
    "collapsed": true
   },
   "outputs": [],
   "source": [
    "# here we are going to define a function that will convert the categoroy values to numeric values\n",
    "#def handle_non_numeric_data(df):\n",
    "#    columns = df.columns.values\n",
    "    \n",
    "#    for column in columns:\n",
    "#        text_digit_vals = {}\n",
    "#        def convert_to_int(val):\n",
    "#            return text_digit_vals[val]\n",
    "        \n",
    "#        if df[column].dtype != np.int64 and df[column].dtype != np.float64:\n",
    "#            column_contents = df[column].values.tolist()\n",
    "#            unique_elem = set(column_contents)\n",
    "            \n",
    "#            idx = 0\n",
    "#            for unique in unique_elem:\n",
    "#                if unique not in text_digit_vals:\n",
    "#                    text_digit_vals[unique] = idx\n",
    "#                    idx += 1\n",
    "                    \n",
    "#            df[column] = list(map(convert_to_int, df[column]))\n",
    "            \n",
    "#    return df"
   ]
  },
  {
   "cell_type": "code",
   "execution_count": 3,
   "metadata": {
    "collapsed": false
   },
   "outputs": [
    {
     "name": "stderr",
     "output_type": "stream",
     "text": [
      "C:\\Users\\ting\\Anaconda3\\lib\\site-packages\\ipykernel\\__main__.py:6: FutureWarning: convert_objects is deprecated.  Use the data-type specific converters pd.to_datetime, pd.to_timedelta and pd.to_numeric.\n"
     ]
    },
    {
     "name": "stdout",
     "output_type": "stream",
     "text": [
      "   pclass  survived  sex  age  sibsp  parch  ticket  fare  cabin  embarked  \\\n",
      "0       0         1    1   30      0      0     751   176    183         3   \n",
      "1       0         1    0   92      1      2     492   133     96         3   \n",
      "2       0         0    1    2      1      2     492   133     96         3   \n",
      "3       0         0    0   31      1      2     492   133     96         3   \n",
      "4       0         0    1   25      1      2     492   133     96         3   \n",
      "\n",
      "   boat  home.dest  \n",
      "0     1         10  \n",
      "1    16        303  \n",
      "2     0        303  \n",
      "3     0        303  \n",
      "4     0        303  \n",
      "0.35141329258976317\n"
     ]
    }
   ],
   "source": [
    "from sklearn import preprocessing\n",
    "\n",
    "# use titanic dataset for this exercise\n",
    "df = pd.read_excel('titanic.xls')\n",
    "df.drop(['body', 'name'], 1, inplace=True)\n",
    "df.convert_objects(convert_numeric=True)\n",
    "df.fillna(0, inplace=True)\n",
    "\n",
    "'''\n",
    "# convert text to numeric as factors using pandas package\n",
    "df['sex'] = pd.factorize(df['sex'])[0]\n",
    "df.ticket = pd.factorize(df.ticket)[0]\n",
    "df.cabin = pd.factorize(df.cabin)[0]\n",
    "df.embarked = pd.factorize(df.embarked)[0]\n",
    "df.boat = pd.factorize(df.boat)[0]\n",
    "df['home.dest'] = pd.factorize(df['home.dest'])[0]\n",
    "'''\n",
    "# here I used the one I defined myself to do the conversion\n",
    "import ML_module\n",
    "ML_module.handle_non_numeric_data(df)\n",
    "print(df.head())\n",
    "\n",
    "df.drop(['home.dest'], 1, inplace=True)\n",
    "\n",
    "X = np.array(df.drop(['survived'], 1).astype(float))\n",
    "X = preprocessing.scale(X)\n",
    "y = np.array(df['survived'])\n",
    "\n",
    "clf = KMeans(n_clusters=2)\n",
    "clf.fit(X)\n",
    "\n",
    "correct = 0\n",
    "for i in range(len(X)):\n",
    "    #print(\"X[i] value is: \",  X[i])\n",
    "    predict_me = np.array(X[i].astype(float))\n",
    "    #print(predict_me)\n",
    "    predict_me = predict_me.reshape(-1, len(X[i]))\n",
    "    #print(predict_me)\n",
    "    prediction = clf.predict(predict_me)\n",
    "    #print(prediction)\n",
    "    #break\n",
    "    if prediction[0] == y[i]:\n",
    "        correct+=1\n",
    "print(correct/len(X))"
   ]
  },
  {
   "cell_type": "code",
   "execution_count": 4,
   "metadata": {
    "collapsed": false
   },
   "outputs": [
    {
     "data": {
      "image/png": "[encoded data removed]",
      "text/plain": [
       "<matplotlib.figure.Figure at 0xaf75f98>"
      ]
     },
     "metadata": {},
     "output_type": "display_data"
    }
   ],
   "source": [
    "# Here I am going to define K-Means algorithm myself here\n",
    "class K_Means():\n",
    "    def __init__(self, k=2, tol=0.001, max_iter=300):\n",
    "        self.k = k\n",
    "        self.tol = tol\n",
    "        self.max_iter = max_iter\n",
    "        \n",
    "    # for training\n",
    "    def fit(self, data):\n",
    "        self.centroids = {}\n",
    "        \n",
    "        for i in range(self.k):\n",
    "            self.centroids[i] = data[i]\n",
    "            \n",
    "        for i in range(self.max_iter):\n",
    "            self.classifications = {}    # this is a hash where the key is the centroid and values are feature list\n",
    "            \n",
    "            for j in range(self.k):\n",
    "                self.classifications[j] = []   # this only contains the feature list\n",
    "                \n",
    "            for featureset in data:\n",
    "                distances = [np.linalg.norm(featureset - self.centroids[centroid]) for centroid in self.centroids]\n",
    "                classification = distances.index(min(distances))\n",
    "                self.classifications[classification].append(featureset)\n",
    "                \n",
    "            prev_centroids = dict(self.centroids)\n",
    "            \n",
    "            for classification in self.classifications:\n",
    "                self.centroids[classification] = np.average(self.classifications[classification], axis=0)\n",
    "                \n",
    "            optimized = True\n",
    "            for c in self.centroids:\n",
    "                if np.sum((self.centroids[c]-prev_centroids[c])/prev_centroids[c] * 100.0) > self.tol:\n",
    "                    optimized = False\n",
    "                    \n",
    "            if optimized:\n",
    "                break\n",
    "    \n",
    "    # for prediction\n",
    "    def predict(self, data):\n",
    "        distances = [np.linalg.norm(data - self.centroids[c]) for c in self.centroids]\n",
    "        classification = distances.index(min(distances))\n",
    "        return classification\n",
    "\n",
    "X = np.array([[1,2], [1.5, 1.8], [5,8], [8,8], [1, 0.6], [9,11]])\n",
    "\n",
    "# run K_means\n",
    "clf = K_Means()\n",
    "clf.fit(X)\n",
    "\n",
    "# plot centroids\n",
    "for c in clf.centroids:\n",
    "    plt.scatter(clf.centroids[c][0], clf.centroids[c][1], marker=\"*\", s=150, c='y')\n",
    "    \n",
    "# plot the original feature sets after the classification information added\n",
    "for c in clf.classifications:\n",
    "    color = colors[c]\n",
    "    for featureset in clf.classifications[c]:\n",
    "        plt.scatter(featureset[0], featureset[1], marker=\"+\", c=color, s=100)\n",
    "    \n",
    "# predicting unknown\n",
    "unknowns = np.array([[0,1], [1,3], [3,5], [4,3], [7,6], [5,9],[4,7]])\n",
    "for unknown in unknowns:\n",
    "    classification = clf.predict(unknown)\n",
    "    plt.scatter(unknown[0], unknown[1], c=colors[classification], s=150, marker='o')"
   ]
  },
  {
   "cell_type": "code",
   "execution_count": 6,
   "metadata": {
    "collapsed": false
   },
   "outputs": [
    {
     "name": "stdout",
     "output_type": "stream",
     "text": [
      "[[-1.54609786  1.34499549  0.08638507 -0.50986141 -0.45586788  1.04773893\n",
      "   0.50230797  3.35128381  0.62364835 -0.5176846  -0.73429534]\n",
      " [-1.54609786 -0.74349692  2.81221696  0.54117574  1.93105635  0.08316224\n",
      "   0.00573441  1.53906899  0.62364835  1.32275304  1.75568682]]\n",
      "0.599694423223835\n"
     ]
    },
    {
     "name": "stderr",
     "output_type": "stream",
     "text": [
      "C:\\Users\\ting\\Anaconda3\\lib\\site-packages\\ipykernel\\__main__.py:4: FutureWarning: convert_objects is deprecated.  Use the data-type specific converters pd.to_datetime, pd.to_timedelta and pd.to_numeric.\n"
     ]
    }
   ],
   "source": [
    "# now use the titanic dataset for the classification\n",
    "df = pd.read_excel('titanic.xls')\n",
    "df.drop(['name', 'body'], 1, inplace=True)\n",
    "df.convert_objects(convert_numeric=True)\n",
    "df.fillna(0, inplace=True)\n",
    "ML_module.handle_non_numeric_data(df)\n",
    "\n",
    "X = np.array(df.drop(['survived'], 1).astype(float))\n",
    "X = preprocessing.scale(X)\n",
    "y = np.array(df['survived'])\n",
    "print(X[:2])\n",
    "\n",
    "clf = K_Means()\n",
    "clf.fit(X)\n",
    "\n",
    "correct = 0\n",
    "for i in range(len(X)):\n",
    "    predict_me = np.array(X[i]).astype(float)\n",
    "    predict_me = clf.predict(predict_me.reshape(-1, len(X[i])))\n",
    "    if predict_me == y[i]:\n",
    "        correct += 1\n",
    "    #print(predict_me)\n",
    "    #break\n",
    "    \n",
    "print(correct/len(X))"
   ]
  },
  {
   "cell_type": "code",
   "execution_count": null,
   "metadata": {
    "collapsed": true
   },
   "outputs": [],
   "source": []
  }
 ],
 "metadata": {
  "kernelspec": {
   "display_name": "Python 3",
   "language": "python",
   "name": "python3"
  },
  "language_info": {
   "codemirror_mode": {
    "name": "ipython",
    "version": 3
   },
   "file_extension": ".py",
   "mimetype": "text/x-python",
   "name": "python",
   "nbconvert_exporter": "python",
   "pygments_lexer": "ipython3",
   "version": "3.5.1"
  }
 },
 "nbformat": 4,
 "nbformat_minor": 0
}
