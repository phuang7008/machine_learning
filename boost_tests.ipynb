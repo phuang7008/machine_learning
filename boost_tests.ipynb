{
 "cells": [
  {
   "cell_type": "markdown",
   "metadata": {},
   "source": [
    "#### This is for the exercises for boosting related algorithm"
   ]
  },
  {
   "cell_type": "code",
   "execution_count": 26,
   "metadata": {
    "collapsed": false
   },
   "outputs": [],
   "source": [
    "%matplotlib inline\n",
    "import pandas as pd\n",
    "import numpy as np\n",
    "import matplotlib.pyplot as plt"
   ]
  },
  {
   "cell_type": "code",
   "execution_count": 27,
   "metadata": {
    "collapsed": false
   },
   "outputs": [],
   "source": [
    "from sklearn.datasets import make_classification\n",
    "from sklearn.model_selection import train_test_split\n",
    "from sklearn.metrics import log_loss, accuracy_score, mean_absolute_error\n",
    "\n",
    "# classifiers\n",
    "from sklearn.tree import DecisionTreeClassifier, export_graphviz\n",
    "from sklearn.ensemble import AdaBoostClassifier, GradientBoostingClassifier"
   ]
  },
  {
   "cell_type": "code",
   "execution_count": 28,
   "metadata": {
    "collapsed": false
   },
   "outputs": [],
   "source": [
    "X, y = make_classification(n_samples=1000, n_features=20, n_informative=8,\n",
    "                          n_redundant=3, n_repeated=2, random_state=111)\n",
    "X_train, X_test, y_train, y_test = train_test_split(X, y, test_size=0.2, \n",
    "                                                    random_state = 111)"
   ]
  },
  {
   "cell_type": "markdown",
   "metadata": {},
   "source": [
    "#### single tree"
   ]
  },
  {
   "cell_type": "code",
   "execution_count": 29,
   "metadata": {
    "collapsed": false
   },
   "outputs": [
    {
     "name": "stdout",
     "output_type": "stream",
     "text": [
      "==Decision Tree==\n",
      "Accuracy: 0.81\n",
      "Log loss: 6.39\n",
      "Number of nodes created: 151\n",
      "True labels: [1 0 0 0 1 0 1 0 0 1 0 1 1 0 0]\n",
      "Pred labels: [1 0 0 0 1 1 1 0 0 1 0 0 0 1 1]\n",
      "Pred_Probility\n",
      " [[ 0.  1.]\n",
      " [ 1.  0.]\n",
      " [ 1.  0.]\n",
      " [ 1.  0.]\n",
      " [ 0.  1.]]\n"
     ]
    }
   ],
   "source": [
    "decision_tree = DecisionTreeClassifier(random_state=111)\n",
    "decision_tree.fit(X_train, y_train)\n",
    "y_pred = decision_tree.predict(X_test)\n",
    "y_pred_prob = decision_tree.predict_proba(X_test)\n",
    "\n",
    "# evaluation\n",
    "decision_tree_accuracy = accuracy_score(y_pred, y_test)\n",
    "decision_tree_log_loss = log_loss(y_test, y_pred)\n",
    "\n",
    "print(\"==Decision Tree==\")\n",
    "print(\"Accuracy: {0:.2f}\".format(decision_tree_accuracy))\n",
    "print(\"Log loss: {0:.2f}\".format(decision_tree_log_loss))\n",
    "print(\"Number of nodes created: {}\".format(decision_tree.tree_.node_count))\n",
    "\n",
    "# view more details\n",
    "print(\"True labels:\", y_test[:15,])\n",
    "print(\"Pred labels:\", y_pred[:15,])\n",
    "print(\"Pred_Probility\\n\", y_pred_prob[:5,])"
   ]
  },
  {
   "cell_type": "markdown",
   "metadata": {
    "collapsed": true
   },
   "source": [
    "#### Visualize the tree\n",
    "the tree is quite big and bushy"
   ]
  },
  {
   "cell_type": "code",
   "execution_count": 62,
   "metadata": {
    "collapsed": false
   },
   "outputs": [
    {
     "data": {
      "image/png": "",
      "text/plain": [
       "<IPython.core.display.Image object>"
      ]
     },
     "execution_count": 62,
     "metadata": {},
     "output_type": "execute_result"
    }
   ],
   "source": [
    "from IPython.display import Image\n",
    "import subprocess\n",
    "\n",
    "dt_viz_file = \"dt.dot\"\n",
    "dt_png_file = \"dt.png\"\n",
    "\n",
    "# create visualization\n",
    "export_graphviz(decision_tree, out_file=dt_viz_file)\n",
    "\n",
    "# convert to PNG: if you get exit 1 error, it is because the 'dot' executable is\n",
    "# not available. Need to install GraphViz package will fix the problem\n",
    "command = ['dot', dt_viz_file, '-Tpng', '-o', dt_png_file]\n",
    "subprocess.check_call(command, shell=True)\n",
    "\n",
    "# the above not working, here I will try pydot\n",
    "#import pydot\n",
    "#(png, ) = pydot.graph_from_dot_file(dt_viz_file)\n",
    "#png.write_png(dt_png_file)\n",
    "\n",
    "# Display\n",
    "Image(filename=dt_png_file)"
   ]
  },
  {
   "cell_type": "markdown",
   "metadata": {
    "collapsed": true
   },
   "source": [
    "#### AdaBoost\n",
    "we are growing decision node up to the first split (which is called _decision stumps_)"
   ]
  },
  {
   "cell_type": "code",
   "execution_count": 31,
   "metadata": {
    "collapsed": false
   },
   "outputs": [
    {
     "name": "stdout",
     "output_type": "stream",
     "text": [
      "Adaboost accuracy: 0.89\n",
      "Adaboost log loss: 0.68\n",
      "y_test label:  [1 0 0 0 1 0 1 0 0 1 0 1 1 0 0]\n",
      "y_pred label:  [1 0 0 0 1 0 1 0 0 1 0 0 0 0 0]\n",
      "y prediction probability: \n",
      " [[ 0.48923518  0.51076482]\n",
      " [ 0.49770373  0.50229627]\n",
      " [ 0.4965521   0.5034479 ]\n",
      " [ 0.49935837  0.50064163]\n",
      " [ 0.48928839  0.51071161]]\n"
     ]
    }
   ],
   "source": [
    "adaboost = AdaBoostClassifier(\n",
    "        base_estimator=DecisionTreeClassifier(max_depth=1),\n",
    "        algorithm='SAMME',\n",
    "        n_estimators=1000,\n",
    "        random_state=123)\n",
    "\n",
    "# train classifier and make prediction\n",
    "adaboost.fit(X_train, y_train)\n",
    "y_pred = adaboost.predict(X_test)\n",
    "y_pred_prob = adaboost.predict_proba(X_test)\n",
    "\n",
    "# evaluation\n",
    "accuracy = accuracy_score(y_pred, y_test)\n",
    "logloss = log_loss(y_test, y_pred_prob)\n",
    "\n",
    "print(\"Adaboost accuracy: {0:.2f}\".format(accuracy))\n",
    "print(\"Adaboost log loss: {0:.2f}\".format(logloss))\n",
    "\n",
    "# view details\n",
    "print(\"y_test label: \", y_test[:15,])\n",
    "print(\"y_pred label: \", y_pred[:15,])\n",
    "print(\"y prediction probability: \\n\", y_pred_prob[:5,])"
   ]
  },
  {
   "cell_type": "markdown",
   "metadata": {},
   "source": [
    "let's check what the first tree looks like and find out its contribution to the final ensemble"
   ]
  },
  {
   "cell_type": "code",
   "execution_count": 32,
   "metadata": {
    "collapsed": false
   },
   "outputs": [
    {
     "data": {
      "image/png": "ada_t1.png",
      "text/plain": [
       "<IPython.core.display.Image object>"
      ]
     },
     "execution_count": 32,
     "metadata": {},
     "output_type": "execute_result"
    }
   ],
   "source": [
    "ada_t1 = adaboost.estimators_[0]\n",
    "ada_t1_viz_file = 'ada_t1.dot'\n",
    "ada_t1_png_file = 'ada_t1.png'\n",
    "\n",
    "# create visualization\n",
    "export_graphviz(ada_t1, out_file=ada_t1_viz_file)\n",
    "\n",
    "# convert to PNG\n",
    "command = ['dot', '-Tpng', ada_t1_viz_file, '-o', ada_t1_png_file]\n",
    "subprocess.check_call(command, shell=True)\n",
    "\n",
    "# viewing\n",
    "Image(ada_t1_png_file)"
   ]
  },
  {
   "cell_type": "code",
   "execution_count": 33,
   "metadata": {
    "collapsed": false
   },
   "outputs": [
    {
     "name": "stdout",
     "output_type": "stream",
     "text": [
      "Error: 0.27\n",
      "Tree important: 1.01\n"
     ]
    }
   ],
   "source": [
    "# print first estimator's error\n",
    "print(\"Error: {0:.2f}\".format(adaboost.estimator_errors_[0]))\n",
    "print(\"Tree important: {0:.2f}\".format(adaboost.estimator_weights_[0]))"
   ]
  },
  {
   "cell_type": "markdown",
   "metadata": {},
   "source": [
    "#### Gradient Boosted Tree (GBT)\n",
    "let's construct a GBT consisting 1000 trees where each successive one will be created with gradient optimization. We will leave most parameters with their default values, specify the max_depth of the tree to 1, and setting warm start for more intelligent computation. "
   ]
  },
  {
   "cell_type": "code",
   "execution_count": 34,
   "metadata": {
    "collapsed": false
   },
   "outputs": [
    {
     "name": "stdout",
     "output_type": "stream",
     "text": [
      "Accuracy: 0.90\n",
      "log loss: 0.24\n",
      "y labels:     [1 0 0 0 1 0 1 0 0 1 0 1 1 0 0]\n",
      "y predicted:  [1 0 0 0 1 0 1 0 0 1 0 0 0 1 0]\n",
      "y predicted probability:\n",
      " [[ 0.0125176   0.9874824 ]\n",
      " [ 0.84405924  0.15594076]\n",
      " [ 0.77342065  0.22657935]\n",
      " [ 0.96954721  0.03045279]\n",
      " [ 0.27227844  0.72772156]]\n"
     ]
    }
   ],
   "source": [
    "gbt = GradientBoostingClassifier(max_depth=1, n_estimators=1000, \n",
    "                                 warm_start=True, random_state=123)\n",
    "gbt.fit(X_train, y_train)\n",
    "gbt_y_pred = gbt.predict(X_test)\n",
    "gbt_y_pred_prob = gbt.predict_proba(X_test)\n",
    "\n",
    "# evaluation\n",
    "accuracy = accuracy_score(y_test, gbt_y_pred)\n",
    "logloss = log_loss(y_test, gbt_y_pred_prob)\n",
    "# log_loss = log_loss(y_test, gbt_y_pred_prob)  ===> bad\n",
    "# note, try not to use the same name for both variable and function. otherwise,\n",
    "# it will give you TypeError: 'numpy.float64' object is not callable\n",
    "\n",
    "print(\"Accuracy: {0:.2f}\".format(accuracy))\n",
    "print(\"log loss: {0:.2f}\".format(logloss))\n",
    "\n",
    "# view the first several instances\n",
    "print(\"y labels:    \", y_test[:15,])\n",
    "print(\"y predicted: \", gbt_y_pred[:15,])\n",
    "print(\"y predicted probability:\\n\", gbt_y_pred_prob[:5,])"
   ]
  },
  {
   "cell_type": "markdown",
   "metadata": {},
   "source": [
    "Here GBT actually use DecisionTreeRegressor classifier as the estimator with *mean_square_error* as criterion. This results a slight different tree. The leaf will contain the predicted value, while the previous ones split points"
   ]
  },
  {
   "cell_type": "code",
   "execution_count": 35,
   "metadata": {
    "collapsed": false
   },
   "outputs": [
    {
     "data": {
      "image/png": "",
      "text/plain": [
       "<IPython.core.display.Image object>"
      ]
     },
     "execution_count": 35,
     "metadata": {},
     "output_type": "execute_result"
    }
   ],
   "source": [
    "gbt_t1 = gbt.estimators_[2][0]\n",
    "gbt_dt_dot = 'gbt.dot'\n",
    "gbt_dt_pnd = 'gbt.png'\n",
    "\n",
    "# exporting dot file\n",
    "export_graphviz(gbt_t1, out_file=gbt_dt_dot)\n",
    "\n",
    "# conversion\n",
    "command = ['dot', '-Tpng', gbt_dt_dot, '-o', gbt_dt_pnd]\n",
    "subprocess.check_call(command, shell=True)\n",
    "\n",
    "Image(gbt_dt_pnd)"
   ]
  },
  {
   "cell_type": "markdown",
   "metadata": {},
   "source": [
    "### XGBoost\n",
    "- ***XGBoost handles only numeric variables***\n",
    "- the dataset used is Agaricus (mushroom classification). All of them has been preprocessed and categorical data have been encoded. Data have been divided into training and test sets\n",
    "- The target is 0 and 1 for edible and poisonous. So it is a binary classification!\n",
    "#### details about xgboost\n",
    "- data need to be stored in _DMatrix_ object, which is designed to handle sparse dataset. It can be populated in the following ways:\n",
    "  - use libsvm format text file\n",
    "  - use Numpy 2D array (most popular one)\n",
    "  - use XGBoost binary buffer file\n",
    "- here I use the first option! that is using libsvm\n",
    "  - libsvm only stores non-zero elements in format\n",
    "  - <label> <feature_a>:<value_a><feature_c>:<value_c>...<feature_x>:<value_x>\n",
    "  - any missing features indicate that its corresponding value is 0"
   ]
  },
  {
   "cell_type": "code",
   "execution_count": 46,
   "metadata": {
    "collapsed": false
   },
   "outputs": [
    {
     "name": "stdout",
     "output_type": "stream",
     "text": [
      "training data contain 6513 rows and 126 columns.\n",
      "test data contain 1611 rows and 126 columns.\n",
      "training possible labels:\n",
      "[ 0.  1.]\n",
      "test possible labels:\n",
      "[ 0.  1.]\n"
     ]
    }
   ],
   "source": [
    "import xgboost as xgb\n",
    "\n",
    "# load data\n",
    "dtrain = xgb.DMatrix('data/agaricus.txt.train')\n",
    "dtest  = xgb.DMatrix('data/agaricus.txt.test')\n",
    "\n",
    "# view\n",
    "print(\"training data contain {0} rows and {1} columns.\".format(dtrain.num_row(), dtrain.num_col()))\n",
    "print(\"test data contain {0} rows and {1} columns.\".format(dtest.num_row(), dtest.num_col()))\n",
    "\n",
    "# view the unique labels (or targets)\n",
    "print(\"training possible labels:\")\n",
    "print(np.unique(dtrain.get_label()))\n",
    "\n",
    "print(\"test possible labels:\")\n",
    "print(np.unique(dtest.get_label()))"
   ]
  },
  {
   "cell_type": "markdown",
   "metadata": {
    "collapsed": false
   },
   "source": [
    "#### Specify training parameters\n",
    "- this is one of important things I need to adjust. But here we need to make some assumptions\n",
    "  - we are dealing with binary classification problem ('objective':'binary:logistic')\n",
    "  - we want shallow single trees with no more than 2 levels ('max_depth':2)\n",
    "  - we don't produce any output ('silent':1)\n",
    "  - we want to iterate 5 rounds\n",
    "- we could also observe the performance on both test and training dataset using watch_list"
   ]
  },
  {
   "cell_type": "code",
   "execution_count": 47,
   "metadata": {
    "collapsed": false
   },
   "outputs": [
    {
     "name": "stdout",
     "output_type": "stream",
     "text": [
      "[0]\ttest-error:0.042831\ttrain-error:0.046522\n",
      "[1]\ttest-error:0.021726\ttrain-error:0.022263\n",
      "[2]\ttest-error:0.006207\ttrain-error:0.007063\n",
      "[3]\ttest-error:0.018001\ttrain-error:0.0152\n",
      "[4]\ttest-error:0.006207\ttrain-error:0.007063\n",
      "[ 0.08073306  0.92217326  0.08073306  0.08073306  0.05050367]\n"
     ]
    }
   ],
   "source": [
    "# setting parameters\n",
    "params = { 'objective':'binary:logistic',\n",
    "           'max_depth':2,\n",
    "           'silent':1,\n",
    "           'eta':1}\n",
    "\n",
    "num_rounds = 5\n",
    "\n",
    "# do training\n",
    "#dt = xgb.train(params, dtrain, num_rounds)\n",
    "\n",
    "# you could add a watchlist to the training\n",
    "watch_list = [(dtest,'test'), (dtrain,'train')]    # native interface only\n",
    "dtt = xgb.train(params, dtrain, num_rounds, watch_list)\n",
    "\n",
    "# prediction\n",
    "pred_prob = dtt.predict(dtest)\n",
    "print(pred_prob[:5])"
   ]
  },
  {
   "cell_type": "markdown",
   "metadata": {},
   "source": [
    "#### XGBoost validation\n",
    "calculate the accuracy to verify the results. Of course, validation should be performed accordingly to the dataset. In our case, the accuracy is sufficient"
   ]
  },
  {
   "cell_type": "code",
   "execution_count": 48,
   "metadata": {
    "collapsed": false
   },
   "outputs": [
    {
     "name": "stdout",
     "output_type": "stream",
     "text": [
      "predicted accuracy is 1601/1611: \n",
      "Error is: 0.0062\n"
     ]
    }
   ],
   "source": [
    "labels = dtest.get_label()\n",
    "preds = pred_prob > 0.5  # threshold\n",
    "correct = 0\n",
    "\n",
    "for i in range(len(preds)):\n",
    "    if labels[i] == preds[i]:\n",
    "        correct += 1\n",
    "        \n",
    "print(\"predicted accuracy is {0}/{1}: \".format(correct, len(preds)))\n",
    "print(\"Error is: {0:.4f}\".format(1 - correct/len(preds)))\n"
   ]
  },
  {
   "cell_type": "markdown",
   "metadata": {},
   "source": [
    "### Evaluation which feature is most important\n",
    "- Before moving on, it's important to understand the intuition about how trees are grown.\n",
    "\n",
    "  - while building a tree is divided recursively several times (in this example only once) - this operation is called split. To perform a split, the algorithm must figure out which is the best (one) feature to use.\n",
    "  - After that, at the bottom of the tree, we get groups of observations packed in the leaves\n",
    "  - in the final model, these leafs are supposed to be as pure as possible for each tree, meaning in our case that each leaf should be made of one label class.\n",
    "  - Not all splits are equally important. Basically the first split of a tree will have more impact on the purity than, for instance, the deepest split. intuitively, we understand that the first split makes most of the work, and the following splits focus on smaller parts of the dataset which have been mis-classified by the first tree.\n",
    "  - In the same way, in Boosting we try to optimize the mis-classification at each round (it is called the loss). So the first tree will do the big work and the following trees will focus on the remaining, on the parts not correctly learned by the previous trees.\n",
    "  - The improvement bought by each split can be measured, it is the gain. \n",
    "  - ~Quated from the Kaggle Tianqi Chen's Kaggle noteboo.\n",
    "\n",
    "Let's investigate how trees look like in our case:"
   ]
  },
  {
   "cell_type": "code",
   "execution_count": 50,
   "metadata": {
    "collapsed": false
   },
   "outputs": [
    {
     "name": "stdout",
     "output_type": "stream",
     "text": [
      "0:[f28<-9.53674e-07] yes=1,no=2,missing=1,gain=4000.53,cover=1628.25\n",
      "\t1:[f55<-9.53674e-07] yes=3,no=4,missing=3,gain=1158.21,cover=924.5\n",
      "\t\t3:leaf=1.71218,cover=812\n",
      "\t\t4:leaf=-1.70044,cover=112.5\n",
      "\t2:[f108<-9.53674e-07] yes=5,no=6,missing=5,gain=198.174,cover=703.75\n",
      "\t\t5:leaf=-1.94071,cover=690.5\n",
      "\t\t6:leaf=1.85965,cover=13.25\n",
      "\n",
      "0:[f59<-9.53674e-07] yes=1,no=2,missing=1,gain=832.545,cover=788.852\n",
      "\t1:[f28<-9.53674e-07] yes=3,no=4,missing=3,gain=569.725,cover=768.39\n",
      "\t\t3:leaf=0.784718,cover=458.937\n",
      "\t\t4:leaf=-0.96853,cover=309.453\n",
      "\t2:leaf=-6.23624,cover=20.4624\n",
      "\n",
      "0:[f101<-9.53674e-07] yes=1,no=2,missing=1,gain=368.745,cover=457.069\n",
      "\t1:[f66<-9.53674e-07] yes=3,no=4,missing=3,gain=226.337,cover=221.051\n",
      "\t\t3:leaf=0.658725,cover=212.999\n",
      "\t\t4:leaf=5.77229,cover=8.05201\n",
      "\t2:[f110<-9.53674e-07] yes=5,no=6,missing=5,gain=258.184,cover=236.018\n",
      "\t\t5:leaf=-0.791407,cover=233.488\n",
      "\t\t6:leaf=-9.42142,cover=2.53039\n",
      "\n",
      "0:[f26<-9.53674e-07] yes=1,no=2,missing=1,gain=140.486,cover=364.119\n",
      "\t1:[f38<-9.53674e-07] yes=3,no=4,missing=3,gain=139.861,cover=274.102\n",
      "\t\t3:leaf=0.614153,cover=95.86\n",
      "\t\t4:leaf=-0.877906,cover=178.242\n",
      "\t2:leaf=1.07748,cover=90.0174\n",
      "\n",
      "0:[f108<-9.53674e-07] yes=1,no=2,missing=1,gain=112.605,cover=189.202\n",
      "\t1:[f35<-9.53674e-07] yes=3,no=4,missing=3,gain=66.403,cover=177.772\n",
      "\t\t3:leaf=-1.26934,cover=42.2774\n",
      "\t\t4:leaf=0.152607,cover=135.494\n",
      "\t2:leaf=2.92191,cover=11.4304\n",
      "\n"
     ]
    }
   ],
   "source": [
    "import seaborn as sns\n",
    "\n",
    "sns.set(font_scale=1.5)\n",
    "\n",
    "tree_dump = dtt.get_dump(fmap='data/featmap.txt', with_stats=True)\n",
    "\n",
    "for tree in tree_dump:\n",
    "    print(tree)\n"
   ]
  },
  {
   "cell_type": "markdown",
   "metadata": {},
   "source": [
    "#### For each split we are getting the following details:\n",
    "- which feature was used to make split,\n",
    "- possible choices to make (branches)\n",
    "- ***gain*** which is the actual improvement in accuracy brought by that feature. The idea is that before adding a new split on a feature X to the branch, there was some wrongly classified elements, after adding the split on this feature, there are two new branches, and each of these branch is more accurate (one branch saying if your obsration is on this branch, then it should be classified as 1, and the other branch saying the exact opposite),\n",
    "- ***cover*** measures the relative quantity of observations concerned by that feature\n",
    "\n",
    "### Plotting\n",
    "Hopefully there are better ways to figure out which features really mater. We can use built-in function plot_importance that will create a plot presenting most important features due to some criterias. We will analyze the impact of each feature for all splits and all trees and visualize results.\n",
    "See which feature provided the most gain:"
   ]
  },
  {
   "cell_type": "code",
   "execution_count": 51,
   "metadata": {
    "collapsed": false
   },
   "outputs": [
    {
     "data": {
      "text/plain": [
       "<matplotlib.axes._subplots.AxesSubplot at 0x7f326b2212e8>"
      ]
     },
     "execution_count": 51,
     "metadata": {},
     "output_type": "execute_result"
    },
    {
     "data": {
      "image/png": "[encoded data removed]",
      "text/plain": [
       "<matplotlib.figure.Figure at 0x7f326b154748>"
      ]
     },
     "metadata": {},
     "output_type": "display_data"
    }
   ],
   "source": [
    "xgb.plot_importance(dtt, importance_type='gain', xlabel='Gain')"
   ]
  },
  {
   "cell_type": "markdown",
   "metadata": {},
   "source": [
    "#### F-score metric\n",
    "We can simplify it a little bit by introducing a F-score metric\n",
    "\n",
    "***F-score***: sums up how many times a split was performed on each feature"
   ]
  },
  {
   "cell_type": "code",
   "execution_count": 52,
   "metadata": {
    "collapsed": false,
    "scrolled": true
   },
   "outputs": [
    {
     "data": {
      "text/plain": [
       "<matplotlib.axes._subplots.AxesSubplot at 0x7f326ae22550>"
      ]
     },
     "execution_count": 52,
     "metadata": {},
     "output_type": "execute_result"
    },
    {
     "data": {
      "image/png": "[encoded data removed]",
      "text/plain": [
       "<matplotlib.figure.Figure at 0x7f326ae86748>"
      ]
     },
     "metadata": {},
     "output_type": "display_data"
    }
   ],
   "source": [
    "xgb.plot_importance(dtt)"
   ]
  },
  {
   "cell_type": "markdown",
   "metadata": {},
   "source": [
    "In case you want to visualize it another way, a created model enables convinient way of accessing the f-score"
   ]
  },
  {
   "cell_type": "code",
   "execution_count": 53,
   "metadata": {
    "collapsed": false
   },
   "outputs": [
    {
     "data": {
      "text/plain": [
       "{'f101': 1,\n",
       " 'f108': 2,\n",
       " 'f110': 1,\n",
       " 'f26': 1,\n",
       " 'f28': 2,\n",
       " 'f35': 1,\n",
       " 'f38': 1,\n",
       " 'f55': 1,\n",
       " 'f59': 1,\n",
       " 'f66': 1}"
      ]
     },
     "execution_count": 53,
     "metadata": {},
     "output_type": "execute_result"
    }
   ],
   "source": [
    "importances = dtt.get_fscore()\n",
    "importances"
   ]
  },
  {
   "cell_type": "markdown",
   "metadata": {},
   "source": [
    "Now we can manipulate data in our own way"
   ]
  },
  {
   "cell_type": "code",
   "execution_count": 55,
   "metadata": {
    "collapsed": false
   },
   "outputs": [
    {
     "data": {
      "text/plain": [
       "<matplotlib.axes._subplots.AxesSubplot at 0x7f326b1542e8>"
      ]
     },
     "execution_count": 55,
     "metadata": {},
     "output_type": "execute_result"
    },
    {
     "data": {
      "image/png": "[encoded data removed]",
      "text/plain": [
       "<matplotlib.figure.Figure at 0x7f326ae38630>"
      ]
     },
     "metadata": {},
     "output_type": "display_data"
    }
   ],
   "source": [
    "# create df\n",
    "importance_df = pd.DataFrame({'Splits' : list(importances.values()), \n",
    "                              'Feature' : list(importances.keys())})\n",
    "\n",
    "importance_df.sort_values(by='Splits', inplace=True)\n",
    "importance_df.plot(kind='barh', x='Feature', figsize=(8,6), color='orange')\n"
   ]
  },
  {
   "cell_type": "markdown",
   "metadata": {
    "collapsed": true
   },
   "source": [
    "### sklearn XGBClassifier\n",
    "- An alternative way is to use sci-kit learn's XGBClassifier(). Most part are the same "
   ]
  },
  {
   "cell_type": "code",
   "execution_count": 43,
   "metadata": {
    "collapsed": false
   },
   "outputs": [
    {
     "name": "stdout",
     "output_type": "stream",
     "text": [
      "Training dataset contains 6513 rows and 126 columns\n",
      "Test dataset contains 1611 rows and 126 columns\n",
      "Train possible labels:\n",
      "[ 0.  1.]\n",
      "Test possible labels:\n",
      "[ 0.  1.]\n"
     ]
    }
   ],
   "source": [
    "from sklearn.datasets import load_svmlight_files\n",
    "from xgboost.sklearn import XGBClassifier\n",
    "\n",
    "# the split order is different from the traditional ones\n",
    "X_train, y_train, X_test, y_test = load_svmlight_files(('data/agaricus.txt.train', 'data/agaricus.txt.test'))\n",
    "print(\"Training dataset contains {0} rows and {1} columns\".format(X_train.shape[0], X_train.shape[1]))\n",
    "print(\"Test dataset contains {0} rows and {1} columns\".format(X_test.shape[0], X_test.shape[1]))\n",
    "\n",
    "print(\"Train possible labels:\")\n",
    "print(np.unique(y_train))\n",
    "\n",
    "print(\"Test possible labels:\")\n",
    "print(np.unique(y_test))"
   ]
  },
  {
   "cell_type": "markdown",
   "metadata": {},
   "source": [
    "#### Training and testing\n",
    "- need to provide parameters for XGBoost"
   ]
  },
  {
   "cell_type": "code",
   "execution_count": 45,
   "metadata": {
    "collapsed": false
   },
   "outputs": [
    {
     "name": "stdout",
     "output_type": "stream",
     "text": [
      "[ 0.  1.  0. ...,  1.  0.  1.]\n",
      "The correct predictions are: 1601/1611\n",
      "Errors: 0.0062\n"
     ]
    }
   ],
   "source": [
    "params = { 'objective':'binary:logistic',\n",
    "           'max_depth':2,\n",
    "           'silent':1,\n",
    "           'learning_rate':1.0,   # we want the algorithm to learn fast and aggressively. Named 'eta' in the native program\n",
    "           'n_estimators':5}\n",
    "\n",
    "clf = XGBClassifier(**params)\n",
    "dt = clf.fit(X_train, y_train)\n",
    "\n",
    "pred = clf.predict(X_test)\n",
    "acc = accuracy_score(pred, y_test)\n",
    "print(pred)\n",
    "\n",
    "correct = 0\n",
    "for i in range(len(pred)):\n",
    "    if pred[i] == y_test[i]:\n",
    "        correct += 1\n",
    "        \n",
    "print(\"The correct predictions are: {0}/{1}\".format(correct, len(pred)))\n",
    "print(\"Errors: {0:.4f}\".format(1-acc))"
   ]
  },
  {
   "cell_type": "code",
   "execution_count": null,
   "metadata": {
    "collapsed": true
   },
   "outputs": [],
   "source": []
  }
 ],
 "metadata": {
  "anaconda-cloud": {},
  "kernelspec": {
   "display_name": "Python [default]",
   "language": "python",
   "name": "python3"
  },
  "language_info": {
   "codemirror_mode": {
    "name": "ipython",
    "version": 3
   },
   "file_extension": ".py",
   "mimetype": "text/x-python",
   "name": "python",
   "nbconvert_exporter": "python",
   "pygments_lexer": "ipython3",
   "version": "3.5.2"
  }
 },
 "nbformat": 4,
 "nbformat_minor": 1
}
